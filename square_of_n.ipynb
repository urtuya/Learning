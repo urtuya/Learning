{
 "cells": [
  {
   "cell_type": "code",
   "execution_count": 2,
   "metadata": {},
   "outputs": [],
   "source": [
    "import numpy as np\n",
    "\n",
    "X = np.array([x for x in range(20)])\n",
    "Y = X**2\n",
    "\n",
    "# bias = np.ones((X.shape[0],1), dtype=int)\n",
    "# W = np.zeros(X.shape[0])"
   ]
  },
  {
   "cell_type": "code",
   "execution_count": 3,
   "metadata": {},
   "outputs": [],
   "source": [
    "def get_error(b, m, X,Y):\n",
    "    totalError = 0\n",
    "    for i in range(0, len(X)):\n",
    "        x = X[i]\n",
    "        y = Y[i]\n",
    "        totalError += (y - (m * x + b)) ** 2\n",
    "    return totalError / float(len(X))\n"
   ]
  },
  {
   "cell_type": "code",
   "execution_count": 4,
   "metadata": {},
   "outputs": [
    {
     "data": {
      "text/plain": [
       "28133.3"
      ]
     },
     "execution_count": 4,
     "metadata": {},
     "output_type": "execute_result"
    }
   ],
   "source": [
    "learning_rate = 0.0001\n",
    "N_iter = 500\n",
    "\n",
    "m = 0\n",
    "b = 0\n",
    "\n",
    "error = get_error(b, m, X, Y)\n",
    "error\n",
    "# print(b,m)"
   ]
  },
  {
   "cell_type": "code",
   "execution_count": 5,
   "metadata": {},
   "outputs": [
    {
     "name": "stdout",
     "output_type": "stream",
     "text": [
      "b: -0.4156230390906824\n",
      "m: 14.637852039395545\n"
     ]
    }
   ],
   "source": [
    "def step_gradient(b_current, m_current, X,Y, learning_rate):\n",
    "    b = 0\n",
    "    m = 0\n",
    "    N = float(len(X))\n",
    "    for i in range(0, len(X)):\n",
    "        x = X[i]\n",
    "        y = Y[i]\n",
    "        b+= -(2/N) * (y - ((m_current * x) + b_current))\n",
    "        m += -(2/N) * x * (y - ((m_current * x) + b_current))\n",
    "    new_b = b_current - (learning_rate * b)\n",
    "    new_m = m_current - (learning_rate * m)\n",
    "    return new_b, new_m\n",
    "\n",
    "def gradient(X,Y, starting_b, starting_m, learning_rate, N_iter):\n",
    "    b = starting_b\n",
    "    m = starting_m\n",
    "    for i in range(N_iter):\n",
    "        b, m = step_gradient(b, m, X,Y, learning_rate)\n",
    "    return b, m\n",
    "\n",
    "b,m = gradient(X,Y, b, m, learning_rate, N_iter)\n",
    "print(\"b:\", b)\n",
    "print(\"m:\", m)"
   ]
  },
  {
   "cell_type": "code",
   "execution_count": 6,
   "metadata": {},
   "outputs": [
    {
     "name": "stdout",
     "output_type": "stream",
     "text": [
      "Prediction for [0]: -0.4156\n",
      "Prediction for [1]: 14.2222\n",
      "Prediction for [2]: 28.8601\n",
      "Prediction for [3]: 43.4979\n",
      "Prediction for [4]: 58.1358\n",
      "Prediction for [5]: 72.7736\n",
      "Prediction for [6]: 87.4115\n",
      "Prediction for [7]: 102.0493\n",
      "Prediction for [8]: 116.6872\n",
      "Prediction for [9]: 131.325\n",
      "Prediction for [10]: 145.9629\n",
      "Prediction for [11]: 160.6007\n",
      "Prediction for [12]: 175.2386\n",
      "Prediction for [13]: 189.8765\n",
      "Prediction for [14]: 204.5143\n",
      "Prediction for [15]: 219.1522\n",
      "Prediction for [16]: 233.79\n",
      "Prediction for [17]: 248.4279\n",
      "Prediction for [18]: 263.0657\n",
      "Prediction for [19]: 277.7036\n"
     ]
    }
   ],
   "source": [
    "#Checking errors\n",
    "# print(get_error(b, m, X, Y))\n",
    "Y_pred = m*X + b\n",
    "\n",
    "for i in range(len(X)):\n",
    "    print(\"Prediction for [{}]: {}\".format(X[i], round(Y_pred[i],4)))"
   ]
  },
  {
   "cell_type": "code",
   "execution_count": null,
   "metadata": {},
   "outputs": [],
   "source": []
  },
  {
   "cell_type": "code",
   "execution_count": null,
   "metadata": {},
   "outputs": [],
   "source": []
  }
 ],
 "metadata": {
  "kernelspec": {
   "display_name": "Python 3",
   "language": "python",
   "name": "python3"
  },
  "language_info": {
   "codemirror_mode": {
    "name": "ipython",
    "version": 3
   },
   "file_extension": ".py",
   "mimetype": "text/x-python",
   "name": "python",
   "nbconvert_exporter": "python",
   "pygments_lexer": "ipython3",
   "version": "3.7.5"
  }
 },
 "nbformat": 4,
 "nbformat_minor": 4
}
