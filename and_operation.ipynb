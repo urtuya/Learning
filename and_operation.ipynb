{
 "cells": [
  {
   "cell_type": "code",
   "execution_count": 42,
   "metadata": {},
   "outputs": [],
   "source": [
    "import numpy as np\n",
    "from numpy import array, dot, random\n",
    "\n",
    "# Входные значения\n",
    "Input = array([[0,0],\n",
    "            [1,0],\n",
    "            [0,1],\n",
    "            [1,1]])\n",
    "\n",
    "# Ожидаемые выходные значения\n",
    "Expected_output = array([0,0,0,1])"
   ]
  },
  {
   "cell_type": "code",
   "execution_count": 43,
   "metadata": {},
   "outputs": [
    {
     "data": {
      "text/plain": [
       "array([[1],\n",
       "       [1],\n",
       "       [1],\n",
       "       [1]])"
      ]
     },
     "execution_count": 43,
     "metadata": {},
     "output_type": "execute_result"
    }
   ],
   "source": [
    "#Массив со значениями смещений\n",
    "bias = np.ones((Input.shape[0],1), dtype=int)\n",
    "bias"
   ]
  },
  {
   "cell_type": "code",
   "execution_count": 44,
   "metadata": {},
   "outputs": [
    {
     "data": {
      "text/plain": [
       "array([[0, 0, 1],\n",
       "       [1, 0, 1],\n",
       "       [0, 1, 1],\n",
       "       [1, 1, 1]])"
      ]
     },
     "execution_count": 44,
     "metadata": {},
     "output_type": "execute_result"
    }
   ],
   "source": [
    "# Добавление к начальному массиву массив bias (массив со значениями смещений)\n",
    "Input = np.append(Input, bias, axis=1)\n",
    "Input"
   ]
  },
  {
   "cell_type": "code",
   "execution_count": 45,
   "metadata": {},
   "outputs": [
    {
     "data": {
      "text/plain": [
       "array([0.97511217, 0.12847158, 0.92168374])"
      ]
     },
     "execution_count": 45,
     "metadata": {},
     "output_type": "execute_result"
    }
   ],
   "source": [
    "# Рандомное распределение весов для значений Input\n",
    "Weights = random.rand(3)\n",
    "Weights"
   ]
  },
  {
   "cell_type": "code",
   "execution_count": 56,
   "metadata": {
    "scrolled": true
   },
   "outputs": [
    {
     "name": "stdout",
     "output_type": "stream",
     "text": [
      "[182.41565123 181.84100546 140.12050931]\n"
     ]
    },
    {
     "data": {
      "text/plain": [
       "array([0, 1, 1])"
      ]
     },
     "execution_count": 56,
     "metadata": {},
     "output_type": "execute_result"
    }
   ],
   "source": [
    "# Aункция активации\n",
    "activate_func = lambda sum: 0 if sum < 0 else 1\n",
    "\n",
    "# скорость обучения\n",
    "learning_rate = 2e-1 \n",
    "# количество итераций обучения\n",
    "N = 200\n",
    "\n",
    "for i in range(N):\n",
    "    \n",
    "    # определения индекса примера из входного массива\n",
    "    rndm = random.randint(4)\n",
    "    \n",
    "    # присвоение значения переменной по сгенерированному индексу\n",
    "    element_input = Input[rndm]\n",
    "    expected = Expected_output[rndm]\n",
    "    \n",
    "    # произведение входного значения (Х) на вес (W)\n",
    "    result = dot(W, element_input)\n",
    "    \n",
    "    # вычисление ошибки \n",
    "    error = expected - activate_func(result)\n",
    "    \n",
    "    # изменение весов\n",
    "    for i in range(len(W)):\n",
    "        W[i] += learning_rate * error * element_input[i]\n",
    "print(W)\n",
    "element_input"
   ]
  },
  {
   "cell_type": "code",
   "execution_count": 55,
   "metadata": {},
   "outputs": [
    {
     "name": "stdout",
     "output_type": "stream",
     "text": [
      "[0 0]: 171.12050930975846 -> 1\n",
      "[1 0]: 364.1361605411004 -> 1\n",
      "[0 1]: 362.16151476725946 -> 1\n",
      "[1 1]: 555.1771659986014 -> 1\n"
     ]
    }
   ],
   "source": [
    "# вывод результата тренировки\n",
    "for elem in Input:\n",
    "    result = dot(elem, W)\n",
    "    print(\"{}: {} -> {}\".format(elem[:2], result, activate_func(result)))"
   ]
  },
  {
   "cell_type": "code",
   "execution_count": null,
   "metadata": {},
   "outputs": [],
   "source": []
  }
 ],
 "metadata": {
  "kernelspec": {
   "display_name": "Python 3",
   "language": "python",
   "name": "python3"
  },
  "language_info": {
   "codemirror_mode": {
    "name": "ipython",
    "version": 3
   },
   "file_extension": ".py",
   "mimetype": "text/x-python",
   "name": "python",
   "nbconvert_exporter": "python",
   "pygments_lexer": "ipython3",
   "version": "3.7.5"
  }
 },
 "nbformat": 4,
 "nbformat_minor": 4
}
