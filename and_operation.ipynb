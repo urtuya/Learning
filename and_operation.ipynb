{
 "cells": [
  {
   "cell_type": "code",
   "execution_count": 26,
   "metadata": {},
   "outputs": [],
   "source": [
    "import numpy as np\n",
    "from numpy import array, dot, random\n",
    "\n",
    "# Входные значения\n",
    "Input = array([[0,0],\n",
    "            [1,0],\n",
    "            [0,1],\n",
    "            [1,1]])\n",
    "\n",
    "# Ожидаемые выходные значения\n",
    "Expected_output = array([0,0,0,1])"
   ]
  },
  {
   "cell_type": "code",
   "execution_count": 27,
   "metadata": {},
   "outputs": [
    {
     "data": {
      "text/plain": [
       "array([[1],\n",
       "       [1],\n",
       "       [1],\n",
       "       [1]])"
      ]
     },
     "execution_count": 27,
     "metadata": {},
     "output_type": "execute_result"
    }
   ],
   "source": [
    "#Массив со значениями смещений\n",
    "bias = np.ones((Input.shape[0],1), dtype=int)\n",
    "bias"
   ]
  },
  {
   "cell_type": "code",
   "execution_count": 28,
   "metadata": {},
   "outputs": [
    {
     "data": {
      "text/plain": [
       "array([[0, 0, 1],\n",
       "       [1, 0, 1],\n",
       "       [0, 1, 1],\n",
       "       [1, 1, 1]])"
      ]
     },
     "execution_count": 28,
     "metadata": {},
     "output_type": "execute_result"
    }
   ],
   "source": [
    "# Добавление к начальному массиву массив bias (массив со значениями смещений)\n",
    "Input = np.append(Input, bias, axis=1)\n",
    "Input"
   ]
  },
  {
   "cell_type": "code",
   "execution_count": 33,
   "metadata": {},
   "outputs": [
    {
     "data": {
      "text/plain": [
       "array([0.4224482 , 0.35601862, 0.21657096])"
      ]
     },
     "execution_count": 33,
     "metadata": {},
     "output_type": "execute_result"
    }
   ],
   "source": [
    "# Рандомное распределение весов для значений Input\n",
    "Weights = random.rand(3)\n",
    "Weights"
   ]
  },
  {
   "cell_type": "code",
   "execution_count": 39,
   "metadata": {
    "scrolled": true
   },
   "outputs": [
    {
     "name": "stdout",
     "output_type": "stream",
     "text": [
      "[ 0.41565123  0.24100546 -0.47949069]\n"
     ]
    },
    {
     "data": {
      "text/plain": [
       "array([1, 1, 1])"
      ]
     },
     "execution_count": 39,
     "metadata": {},
     "output_type": "execute_result"
    }
   ],
   "source": [
    "# Aункция активации\n",
    "activate_func = lambda sum: 0 if sum < 0 else 1\n",
    "\n",
    "# скорость обучения\n",
    "learning_rate = 2e-1 \n",
    "# количество итераций обучения\n",
    "N = 200\n",
    "\n",
    "for i in range(N):\n",
    "    \n",
    "    # определения индекса примера из входного массива\n",
    "    rndm = random.randint(4)\n",
    "    \n",
    "    # присвоение значения переменной по сгенерированному индексу\n",
    "    element_input = Input[rndm]\n",
    "    expected = Expected_output[rndm]\n",
    "    \n",
    "    # произведение входного значения (Х) на вес (W)\n",
    "    result = dot(W, element_input)\n",
    "    \n",
    "    # вычисление ошибки \n",
    "    error = expected - activate_func(result)\n",
    "    \n",
    "    # изменение весов\n",
    "    for i in range(len(W)):\n",
    "        W[i] += learning_rate * error * element_input[i]\n",
    "print(W)\n",
    "element_input"
   ]
  },
  {
   "cell_type": "code",
   "execution_count": 40,
   "metadata": {},
   "outputs": [
    {
     "name": "stdout",
     "output_type": "stream",
     "text": [
      "[0 0]: -0.4794906902417356 -> 0\n",
      "[1 0]: -0.06383945889980042 -> 0\n",
      "[0 1]: -0.2384852327408417 -> 0\n",
      "[1 1]: 0.17716599860109344 -> 1\n"
     ]
    }
   ],
   "source": [
    "# вывод результата тренировки\n",
    "for element_x in X:\n",
    "    result = dot(element_x, W)\n",
    "    print(\"{}: {} -> {}\".format(element_x[:2], result, activate(result)))"
   ]
  },
  {
   "cell_type": "code",
   "execution_count": null,
   "metadata": {},
   "outputs": [],
   "source": []
  }
 ],
 "metadata": {
  "kernelspec": {
   "display_name": "Python 3",
   "language": "python",
   "name": "python3"
  },
  "language_info": {
   "codemirror_mode": {
    "name": "ipython",
    "version": 3
   },
   "file_extension": ".py",
   "mimetype": "text/x-python",
   "name": "python",
   "nbconvert_exporter": "python",
   "pygments_lexer": "ipython3",
   "version": "3.7.5"
  }
 },
 "nbformat": 4,
 "nbformat_minor": 4
}
