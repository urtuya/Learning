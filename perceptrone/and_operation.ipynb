{
 "cells": [
  {
   "cell_type": "code",
   "execution_count": 75,
   "metadata": {},
   "outputs": [
    {
     "data": {
      "text/plain": [
       "array([[1],\n",
       "       [1],\n",
       "       [1],\n",
       "       [1]])"
      ]
     },
     "execution_count": 75,
     "metadata": {},
     "output_type": "execute_result"
    }
   ],
   "source": [
    "import numpy as np\n",
    "from numpy import array, dot, random\n",
    "\n",
    "Input = array([ [0, 0],\n",
    "                [0, 1],\n",
    "                [1, 0],\n",
    "                [1, 1] ])\n",
    "\n",
    "Expected_output = array([0, 0, 0, 1])\n",
    "\n",
    "bias = np.ones((Input.shape[0], 1), dtype=int)\n",
    "bias"
   ]
  },
  {
   "cell_type": "code",
   "execution_count": 76,
   "metadata": {},
   "outputs": [
    {
     "data": {
      "text/plain": [
       "array([[0, 0, 1],\n",
       "       [0, 1, 1],\n",
       "       [1, 0, 1],\n",
       "       [1, 1, 1]])"
      ]
     },
     "execution_count": 76,
     "metadata": {},
     "output_type": "execute_result"
    }
   ],
   "source": [
    "Input = np.append(Input, bias, axis=1)\n",
    "Input"
   ]
  },
  {
   "cell_type": "code",
   "execution_count": 77,
   "metadata": {},
   "outputs": [
    {
     "data": {
      "text/plain": [
       "array([0.44586115, 0.17143987, 0.60354258])"
      ]
     },
     "execution_count": 77,
     "metadata": {},
     "output_type": "execute_result"
    }
   ],
   "source": [
    "#Random values of weights\n",
    "W = random.rand(3)\n",
    "W"
   ]
  },
  {
   "cell_type": "code",
   "execution_count": 87,
   "metadata": {},
   "outputs": [],
   "source": [
    "activation_func = lambda sum: 0 if sum < 0 else 1\n",
    "learning_rate = 2e-1\n",
    "N_iter = 200\n"
   ]
  },
  {
   "cell_type": "code",
   "execution_count": 100,
   "metadata": {},
   "outputs": [
    {
     "name": "stdout",
     "output_type": "stream",
     "text": [
      "[ 0.24586115  0.37143987 -0.39645742]\n"
     ]
    }
   ],
   "source": [
    "for i in range(N_iter):\n",
    "    rnd = random.randint(4)\n",
    "    \n",
    "    elem = Input[rnd]\n",
    "    expected = Expected_output[rnd]\n",
    "    \n",
    "    result = dot(W, elem)\n",
    "    \n",
    "    error = expected - activation_func(result)\n",
    "    \n",
    "    for i in range(len(W)):\n",
    "        W[i] += learning_rate * error * elem[i]\n",
    "print(W)"
   ]
  },
  {
   "cell_type": "code",
   "execution_count": 101,
   "metadata": {},
   "outputs": [
    {
     "name": "stdout",
     "output_type": "stream",
     "text": [
      "[0 0]: -0.3964574211974223 -> 0\n",
      "[0 1]: -0.025017550848137726 -> 0\n",
      "[1 0]: -0.1505962732909888 -> 0\n",
      "[1 1]: 0.22084359705829576 -> 1\n"
     ]
    }
   ],
   "source": [
    "#Test\n",
    "for elem in Input:\n",
    "    result = dot(elem, W)\n",
    "    print(\"{}: {} -> {}\".format(elem[:2], result, activation_func(result)))"
   ]
  },
  {
   "cell_type": "code",
   "execution_count": null,
   "metadata": {},
   "outputs": [],
   "source": []
  }
 ],
 "metadata": {
  "kernelspec": {
   "display_name": "Python 3",
   "language": "python",
   "name": "python3"
  },
  "language_info": {
   "codemirror_mode": {
    "name": "ipython",
    "version": 3
   },
   "file_extension": ".py",
   "mimetype": "text/x-python",
   "name": "python",
   "nbconvert_exporter": "python",
   "pygments_lexer": "ipython3",
   "version": "3.7.5"
  }
 },
 "nbformat": 4,
 "nbformat_minor": 4
}
