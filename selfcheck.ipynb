{
 "metadata": {
  "language_info": {
   "codemirror_mode": {
    "name": "ipython",
    "version": 3
   },
   "file_extension": ".py",
   "mimetype": "text/x-python",
   "name": "python",
   "nbconvert_exporter": "python",
   "pygments_lexer": "ipython3",
   "version": "3.7.5-final"
  },
  "orig_nbformat": 2,
  "kernelspec": {
   "name": "python37564bit13dae56286ee4b34ae4c102ec913732c",
   "display_name": "Python 3.7.5 64-bit"
  }
 },
 "nbformat": 4,
 "nbformat_minor": 2,
 "cells": [
  {
   "cell_type": "code",
   "execution_count": 2,
   "metadata": {},
   "outputs": [],
   "source": [
    "import torch"
   ]
  },
  {
   "cell_type": "code",
   "execution_count": 3,
   "metadata": {
    "tags": []
   },
   "outputs": [
    {
     "output_type": "stream",
     "name": "stdout",
     "text": "Size:-> torch.Size([2, 3, 4])\n\nTensor:-> tensor([[[    8761024,           0, -1574372144,       32582],\n         [-1574428592,       32582,           0,           0],\n         [          0,           0, -1581800816,       32582]],\n\n        [[-1570368048,       32582, -1572695184,       32582],\n         [    8761024,           0, -1577393424,       32582],\n         [-1572835664,       32582,    41277200,           0]]],\n       dtype=torch.int32) \n\nDim:-> 3\n"
    }
   ],
   "source": [
    "#Создать один целочисленный тензор А размерностью (2,3,4)\n",
    "A = torch.IntTensor(2,3,4)\n",
    "print(f\"Size:-> {A.size()}\\n\\nTensor:-> {A} \\n\\nDim:-> {A.ndim}\")"
   ]
  },
  {
   "cell_type": "code",
   "execution_count": 24,
   "metadata": {
    "tags": []
   },
   "outputs": [
    {
     "output_type": "stream",
     "name": "stdout",
     "text": "Size:-> torch.Size([5, 9])\n\nTensor:-> tensor([[-2.9637e-05,  4.5657e-41,  2.1793e-36,  0.0000e+00,  6.6431e-03,\n          4.5657e-41, -1.2571e-05,  4.5657e-41,  5.7951e-03],\n        [ 4.5657e-41, -1.2571e-05,  4.5657e-41,  5.7952e-03,  4.5657e-41,\n          3.3771e-43,  0.0000e+00,  2.2879e-36,  0.0000e+00],\n        [-2.9637e-05,  4.5657e-41,  5.7961e-03,  4.5657e-41, -1.2571e-05,\n          4.5657e-41,  3.8099e-03,  4.5657e-41, -1.2571e-05],\n        [ 4.5657e-41,  5.7948e-03,  4.5657e-41, -1.2571e-05,  4.5657e-41,\n          5.7950e-03,  4.5657e-41, -1.2571e-05,  4.5657e-41],\n        [ 5.7957e-03,  4.5657e-41, -1.2571e-05,  4.5657e-41,  5.7963e-03,\n          4.5657e-41, -1.2571e-05,  4.5657e-41,  6.6425e-03]]) \n\nDim:-> 2\nSize:-> torch.Size([12])\n\nTensor:-> tensor([7.7416e-03, 4.5657e-41, 7.7412e-03, 4.5657e-41, 7.7407e-03, 4.5657e-41,\n        7.7405e-03, 4.5657e-41, 7.7401e-03, 4.5657e-41, 7.7407e-03, 4.5657e-41]) \n\nDim:-> 1\n\n type: torch.FloatTensor\n"
    }
   ],
   "source": [
    "#Создать два вещественных тензора: В с размером (4,7) и С размером (12).\n",
    "B = torch.FloatTensor(5,9)\n",
    "C = torch.FloatTensor(12)\n",
    "print(f\"Size:-> {B.size()}\\n\\nTensor:-> {B} \\n\\nDim:-> {B.ndim}\")\n",
    "print(f\"Size:-> {C.size()}\\n\\nTensor:-> {C} \\n\\nDim:-> {C.ndim}\\n\\n type: {C.type()}\")"
   ]
  },
  {
   "cell_type": "code",
   "execution_count": 40,
   "metadata": {},
   "outputs": [
    {
     "output_type": "execute_result",
     "data": {
      "text/plain": "tensor([[[-2.9637e-05,  4.5657e-41,  2.1793e-36,  0.0000e+00,  6.6431e-03],\n         [ 4.5657e-41, -1.2571e-05,  4.5657e-41,  5.7951e-03,  4.5657e-41],\n         [-1.2571e-05,  4.5657e-41,  5.7952e-03,  4.5657e-41,  3.3771e-43]],\n\n        [[ 0.0000e+00,  2.2879e-36,  0.0000e+00, -2.9637e-05,  4.5657e-41],\n         [ 5.7961e-03,  4.5657e-41, -1.2571e-05,  4.5657e-41,  3.8099e-03],\n         [ 4.5657e-41, -1.2571e-05,  4.5657e-41,  5.7948e-03,  4.5657e-41]],\n\n        [[-1.2571e-05,  4.5657e-41,  5.7950e-03,  4.5657e-41, -1.2571e-05],\n         [ 4.5657e-41,  5.7957e-03,  4.5657e-41, -1.2571e-05,  4.5657e-41],\n         [ 5.7963e-03,  4.5657e-41, -1.2571e-05,  4.5657e-41,  6.6425e-03]]])"
     },
     "metadata": {},
     "execution_count": 40
    }
   ],
   "source": [
    " D = torch.reshape(B, (3,3,5))\n",
    " D"
   ]
  },
  {
   "cell_type": "code",
   "execution_count": 51,
   "metadata": {},
   "outputs": [
    {
     "output_type": "execute_result",
     "data": {
      "text/plain": "tensor([-2.9637e-05,  0.0000e+00, -1.2571e-05])"
     },
     "metadata": {},
     "execution_count": 51
    }
   ],
   "source": [
    "D[0:,0,0]"
   ]
  }
 ]
}