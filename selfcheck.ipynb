{
 "metadata": {
  "language_info": {
   "codemirror_mode": {
    "name": "ipython",
    "version": 3
   },
   "file_extension": ".py",
   "mimetype": "text/x-python",
   "name": "python",
   "nbconvert_exporter": "python",
   "pygments_lexer": "ipython3",
   "version": "3.8.2-final"
  },
  "orig_nbformat": 2,
  "kernelspec": {
   "name": "python37564bit13dae56286ee4b34ae4c102ec913732c",
   "display_name": "Python 3.7.5 64-bit"
  }
 },
 "nbformat": 4,
 "nbformat_minor": 2,
 "cells": [
  {
   "cell_type": "code",
   "execution_count": 6,
   "metadata": {},
   "outputs": [],
   "source": [
    "import torch"
   ]
  },
  {
   "cell_type": "code",
   "execution_count": 7,
   "metadata": {
    "tags": []
   },
   "outputs": [
    {
     "output_type": "stream",
     "name": "stdout",
     "text": "Size:-> torch.Size([2, 3, 4])\n\nTensor:-> tensor([[[1563767865,  168438109,  538976266, 1044266528],\n         [1919906848, 1680762979, 1869046121,  678191470],\n         [ 807414881,  538970665, 1702109216, 1919906670]],\n\n        [[ 825056040,  892874798,  757083188,  959458864],\n         [ 539768112,  875442221, 1563767865,  168430121],\n         [ 538976288,  540950078, 1668444020, 1768173160]]], dtype=torch.int32) \n\nDim:-> 3\n"
    }
   ],
   "source": [
    "#Создать один целочисленный тензор А размерностью (2,3,4)\n",
    "A = torch.IntTensor(2,3,4)\n",
    "print(f\"Size:-> {A.size()}\\n\\nTensor:-> {A} \\n\\nDim:-> {A.ndim}\")"
   ]
  },
  {
   "cell_type": "code",
   "execution_count": 8,
   "metadata": {
    "tags": []
   },
   "outputs": [
    {
     "output_type": "stream",
     "name": "stdout",
     "text": "Size:-> torch.Size([5, 9])\n\nTensor:-> tensor([[ 2.4617e-38,  4.9545e-07, -1.7546e+38,  2.4643e-38,  4.1966e-28,\n         -1.7546e+38,  2.4626e-38,  1.0006e-34, -1.7546e+38],\n        [ 2.4617e-38,  1.0006e-34, -1.7546e+38,  2.4617e-38,  1.0006e-34,\n         -1.7546e+38,  2.4617e-38,  1.0006e-34, -1.7546e+38],\n        [ 2.4617e-38,  1.6393e-30, -1.7546e+38,  2.4617e-38,  1.0006e-34,\n         -1.7546e+38,  2.4617e-38,  6.4035e-33, -1.7546e+38],\n        [ 2.4617e-38,  1.0006e-34, -1.7546e+38,  2.4617e-38,  1.0006e-34,\n         -1.7546e+38,  2.4617e-38,  1.0006e-34, -1.7546e+38],\n        [ 2.4617e-38,  1.0006e-34, -1.7546e+38,  2.4624e-38,  1.0006e-34,\n         -1.7546e+38,  2.4631e-38,  1.6393e-30, -1.7546e+38]]) \n\nDim:-> 2\nSize:-> torch.Size([12])\n\nTensor:-> tensor([ 4.1965e-38, -1.1636e-29,  4.1965e-38, -4.6545e-29,  4.1965e-38,\n        -1.8618e-28,  4.1965e-38, -7.4471e-28,  4.1965e-38, -2.9789e-27,\n         4.1965e-38, -1.1915e-26]) \n\nDim:-> 1\n\n type: torch.FloatTensor\n"
    }
   ],
   "source": [
    "#Создать два вещественных тензора: В с размером (4,7) и С размером (12).\n",
    "B = torch.FloatTensor(5,9)\n",
    "C = torch.FloatTensor(12)\n",
    "print(f\"Size:-> {B.size()}\\n\\nTensor:-> {B} \\n\\nDim:-> {B.ndim}\")\n",
    "print(f\"Size:-> {C.size()}\\n\\nTensor:-> {C} \\n\\nDim:-> {C.ndim}\\n\\n type: {C.type()}\")"
   ]
  },
  {
   "cell_type": "code",
   "execution_count": 9,
   "metadata": {},
   "outputs": [
    {
     "output_type": "execute_result",
     "data": {
      "text/plain": "tensor([[[ 2.4617e-38,  4.9545e-07, -1.7546e+38,  2.4643e-38,  4.1966e-28],\n         [-1.7546e+38,  2.4626e-38,  1.0006e-34, -1.7546e+38,  2.4617e-38],\n         [ 1.0006e-34, -1.7546e+38,  2.4617e-38,  1.0006e-34, -1.7546e+38]],\n\n        [[ 2.4617e-38,  1.0006e-34, -1.7546e+38,  2.4617e-38,  1.6393e-30],\n         [-1.7546e+38,  2.4617e-38,  1.0006e-34, -1.7546e+38,  2.4617e-38],\n         [ 6.4035e-33, -1.7546e+38,  2.4617e-38,  1.0006e-34, -1.7546e+38]],\n\n        [[ 2.4617e-38,  1.0006e-34, -1.7546e+38,  2.4617e-38,  1.0006e-34],\n         [-1.7546e+38,  2.4617e-38,  1.0006e-34, -1.7546e+38,  2.4624e-38],\n         [ 1.0006e-34, -1.7546e+38,  2.4631e-38,  1.6393e-30, -1.7546e+38]]])"
     },
     "metadata": {},
     "execution_count": 9
    }
   ],
   "source": [
    " D = torch.reshape(B, (3,3,5))\n",
    " D"
   ]
  },
  {
   "cell_type": "code",
   "execution_count": 10,
   "metadata": {},
   "outputs": [
    {
     "output_type": "execute_result",
     "data": {
      "text/plain": "tensor([2.4617e-38, 2.4617e-38, 2.4617e-38])"
     },
     "metadata": {},
     "execution_count": 10
    }
   ],
   "source": [
    "D[0:,0,0] #первая строка"
   ]
  }
 ]
}