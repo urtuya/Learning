{
 "metadata": {
  "language_info": {
   "codemirror_mode": {
    "name": "ipython",
    "version": 3
   },
   "file_extension": ".py",
   "mimetype": "text/x-python",
   "name": "python",
   "nbconvert_exporter": "python",
   "pygments_lexer": "ipython3",
   "version": "3.7.5-final"
  },
  "orig_nbformat": 2,
  "kernelspec": {
   "name": "python37564bit13dae56286ee4b34ae4c102ec913732c",
   "display_name": "Python 3.7.5 64-bit"
  }
 },
 "nbformat": 4,
 "nbformat_minor": 2,
 "cells": [
  {
   "cell_type": "code",
   "execution_count": 7,
   "metadata": {
    "tags": []
   },
   "outputs": [
    {
     "output_type": "stream",
     "name": "stdout",
     "text": "Size:-> torch.Size([])\n\nTensor:-> 15 \n\nDim:-> 0\n"
    }
   ],
   "source": [
    "import torch\n",
    "\n",
    "#scalar\n",
    "x = torch.tensor(15)\n",
    "print(f\"Size:-> {x.size()}\\n\\nTensor:-> {x} \\n\\nDim:-> {x.ndim}\")"
   ]
  },
  {
   "cell_type": "code",
   "execution_count": 8,
   "metadata": {
    "tags": []
   },
   "outputs": [
    {
     "output_type": "stream",
     "name": "stdout",
     "text": "Size:-> torch.Size([6])\n\nTensor:-> tensor([23.0000, 24.0000, 24.5000, 26.0000, 27.2000, 23.0000]) \n\nDim:-> 1\n"
    }
   ],
   "source": [
    "#vector\n",
    "temp = torch.tensor([23,24,24.5,26,27.2,23.0])\n",
    "print(f\"Size:-> {temp.size()}\\n\\nTensor:-> {temp} \\n\\nDim:-> {temp.ndim}\")"
   ]
  },
  {
   "cell_type": "code",
   "execution_count": 9,
   "metadata": {
    "tags": []
   },
   "outputs": [
    {
     "output_type": "stream",
     "name": "stdout",
     "text": "Size:-> torch.Size([506, 13])\n\nTensor:-> tensor([[6.3200e-03, 1.8000e+01, 2.3100e+00, 0.0000e+00, 5.3800e-01, 6.5750e+00,\n         6.5200e+01, 4.0900e+00, 1.0000e+00, 2.9600e+02, 1.5300e+01, 3.9690e+02,\n         4.9800e+00],\n        [2.7310e-02, 0.0000e+00, 7.0700e+00, 0.0000e+00, 4.6900e-01, 6.4210e+00,\n         7.8900e+01, 4.9671e+00, 2.0000e+00, 2.4200e+02, 1.7800e+01, 3.9690e+02,\n         9.1400e+00]], dtype=torch.float64)  \n\nDim:-> 2\n"
    }
   ],
   "source": [
    "#matrix\n",
    "from sklearn.datasets import load_boston # выгружаем готовый датасет\n",
    "boston = load_boston()\n",
    "\n",
    "boston_tensor = torch.from_numpy(boston.data)\n",
    "print(f\"Size:-> {boston_tensor.size()}\\n\\nTensor:-> {boston_tensor[:2]}  \\n\\nDim:-> {boston_tensor.ndim}\")"
   ]
  },
  {
   "cell_type": "code",
   "execution_count": 10,
   "metadata": {},
   "outputs": [
    {
     "output_type": "execute_result",
     "data": {
      "text/plain": "torch.IntTensor"
     },
     "metadata": {},
     "execution_count": 10
    }
   ],
   "source": [
    "torch.FloatTensor     #  real\n",
    "torch.IntTensor       #  integer"
   ]
  },
  {
   "cell_type": "code",
   "execution_count": 11,
   "metadata": {},
   "outputs": [
    {
     "output_type": "execute_result",
     "data": {
      "text/plain": "tensor([ 3.2000, -5.0000,  2.1000,  0.4000])"
     },
     "metadata": {},
     "execution_count": 11
    }
   ],
   "source": [
    "#create tensor\n",
    "tens = torch.FloatTensor([3.2, -5, 2.1, 0.4])\n",
    "tens"
   ]
  },
  {
   "cell_type": "code",
   "execution_count": 12,
   "metadata": {},
   "outputs": [
    {
     "output_type": "execute_result",
     "data": {
      "text/plain": "tensor([ 3, -5,  2,  0], dtype=torch.int32)"
     },
     "metadata": {},
     "execution_count": 12
    }
   ],
   "source": [
    "#change tensor type\n",
    "tens = tens.type_as(torch.IntTensor())\n",
    "tens"
   ]
  },
  {
   "cell_type": "code",
   "execution_count": 13,
   "metadata": {},
   "outputs": [
    {
     "output_type": "execute_result",
     "data": {
      "text/plain": "tensor([[1., 2., 3.],\n        [4., 5., 6.]])"
     },
     "metadata": {},
     "execution_count": 13
    }
   ],
   "source": [
    "#create new tens\n",
    "tens = torch.FloatTensor([[1,2,3], [4,5,6]])\n",
    "tens"
   ]
  },
  {
   "cell_type": "code",
   "execution_count": 14,
   "metadata": {},
   "outputs": [
    {
     "output_type": "execute_result",
     "data": {
      "text/plain": "tensor([[1., 2.],\n        [3., 4.],\n        [5., 6.]])"
     },
     "metadata": {},
     "execution_count": 14
    }
   ],
   "source": [
    "# np.reshape() == torch.view()\n",
    "tens = tens.view(3, 2)\n",
    "tens"
   ]
  },
  {
   "cell_type": "code",
   "execution_count": 15,
   "metadata": {
    "tags": []
   },
   "outputs": [
    {
     "output_type": "stream",
     "name": "stdout",
     "text": "Size:-> torch.Size([3, 2, 4])\n\nTensor:-> tensor([[[1798126768,      32657,   61369472,          0],\n         [         0,          0,          0,          0]],\n\n        [[         0,          0,          0,          0],\n         [         0,          0,          0,          0]],\n\n        [[         0,          0,          0,          0],\n         [         0,          0,          0,          0]]], dtype=torch.int32) \n\nDim:-> 3\n"
    }
   ],
   "source": [
    "#create tensor without data, but with only size\n",
    "tens = torch.IntTensor(3, 2, 4)\n",
    "print(f\"Size:-> {tens.size()}\\n\\nTensor:-> {tens} \\n\\nDim:-> {tens.ndim}\")"
   ]
  },
  {
   "cell_type": "code",
   "execution_count": 16,
   "metadata": {
    "tags": []
   },
   "outputs": [
    {
     "output_type": "stream",
     "name": "stdout",
     "text": "Size:-> torch.Size([3, 2, 4])\n\nTensor:-> tensor([[[0, 0, 0, 0],\n         [0, 0, 0, 0]],\n\n        [[0, 0, 0, 0],\n         [0, 0, 0, 0]],\n\n        [[0, 0, 0, 0],\n         [0, 0, 0, 0]]], dtype=torch.int32) \n\nDim:-> 3\n"
    }
   ],
   "source": [
    "#zero full\n",
    "tens_zero = torch.IntTensor(3, 2, 4).zero_()\n",
    "print(f\"Size:-> {tens_zero.size()}\\n\\nTensor:-> {tens_zero} \\n\\nDim:-> {tens_zero.ndim}\")"
   ]
  },
  {
   "cell_type": "code",
   "execution_count": 17,
   "metadata": {},
   "outputs": [
    {
     "output_type": "execute_result",
     "data": {
      "text/plain": "tensor([[1798126768,      32657],\n        [         0,          0]], dtype=torch.int32)"
     },
     "metadata": {},
     "execution_count": 17
    }
   ],
   "source": [
    "# print part of tens with indexing\n",
    "tens[0, 0:2, 0:2]"
   ]
  }
 ]
}