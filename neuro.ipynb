{
 "cells": [
  {
   "cell_type": "code",
   "execution_count": 1,
   "metadata": {},
   "outputs": [],
   "source": [
    "import numpy as np  # подключаем библиотеку\n",
    "from numpy import array, dot, random\n",
    "\n",
    "# X - массив входных значений со всеми возможными вариациями входов для 2ух входных значений\n",
    "X = array([[0,0],\n",
    "            [1,0],\n",
    "            [0,1],\n",
    "            [1,1]])\n",
    "\n",
    "# Y - массив эталонных значений, то есть значения по индексу соответствуют правильному ответу для дизъюнкции 2ух входных значений из массива Х\n",
    "Y = array([0,1,1,1])"
   ]
  },
  {
   "cell_type": "code",
   "execution_count": 2,
   "metadata": {},
   "outputs": [
    {
     "data": {
      "text/plain": [
       "(4, 2)"
      ]
     },
     "execution_count": 2,
     "metadata": {},
     "output_type": "execute_result"
    }
   ],
   "source": [
    "# проверим размерность массива\n",
    "x_shape = X.shape\n",
    "x_shape"
   ]
  },
  {
   "cell_type": "code",
   "execution_count": 3,
   "metadata": {},
   "outputs": [
    {
     "data": {
      "text/plain": [
       "array([[1],\n",
       "       [1],\n",
       "       [1],\n",
       "       [1]])"
      ]
     },
     "execution_count": 3,
     "metadata": {},
     "output_type": "execute_result"
    }
   ],
   "source": [
    "# создадим массив со значениями смещений\n",
    "arr_bias = np.ones((x_shape[0],1), dtype=int)\n",
    "arr_bias"
   ]
  },
  {
   "cell_type": "code",
   "execution_count": 4,
   "metadata": {},
   "outputs": [
    {
     "data": {
      "text/plain": [
       "array([[0, 0, 1],\n",
       "       [1, 0, 1],\n",
       "       [0, 1, 1],\n",
       "       [1, 1, 1]])"
      ]
     },
     "execution_count": 4,
     "metadata": {},
     "output_type": "execute_result"
    }
   ],
   "source": [
    "X = np.append(X, arr_bias, axis=1)\n",
    "X"
   ]
  },
  {
   "cell_type": "code",
   "execution_count": 5,
   "metadata": {},
   "outputs": [
    {
     "data": {
      "text/plain": [
       "array([0.9306673 , 0.67499669, 0.88476388])"
      ]
     },
     "execution_count": 5,
     "metadata": {},
     "output_type": "execute_result"
    }
   ],
   "source": [
    "W = random.rand(3)\n",
    "W"
   ]
  },
  {
   "cell_type": "code",
   "execution_count": 6,
   "metadata": {},
   "outputs": [
    {
     "name": "stdout",
     "output_type": "stream",
     "text": [
      "[ 0.9306673   0.67499669 -0.11523612]\n"
     ]
    }
   ],
   "source": [
    "# функция активации\n",
    "activate = lambda sum: 0 if sum < 0 else 1\n",
    "\n",
    "# скорость обучения\n",
    "lr = 2e-1 \n",
    "# количество итераций обучения\n",
    "N = 200\n",
    "\n",
    "for i in range(N):\n",
    "    # рандомное число от 0 до 3 для определения индекса примера из массива Х\n",
    "    rndm = random.randint(4)\n",
    "    # присвоение значения переменной по сгенерированному индексу\n",
    "    element_x = X[rndm]\n",
    "    expected = Y[rndm]\n",
    "    # произведение входного значения (Х) на вес (W)\n",
    "    result = dot(W, element_x)\n",
    "    # вычисление ошибки \n",
    "    error = expected - activate(result)\n",
    "    # изменение весов\n",
    "    for i in range(len(W)):\n",
    "        W[i] += lr * error * element_x[i]\n",
    "print(W)"
   ]
  },
  {
   "cell_type": "code",
   "execution_count": null,
   "metadata": {},
   "outputs": [],
   "source": []
  }
 ],
 "metadata": {
  "kernelspec": {
   "display_name": "Python 3",
   "language": "python",
   "name": "python3"
  },
  "language_info": {
   "codemirror_mode": {
    "name": "ipython",
    "version": 3
   },
   "file_extension": ".py",
   "mimetype": "text/x-python",
   "name": "python",
   "nbconvert_exporter": "python",
   "pygments_lexer": "ipython3",
   "version": "3.7.5"
  }
 },
 "nbformat": 4,
 "nbformat_minor": 4
}
